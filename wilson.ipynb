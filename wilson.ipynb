{
 "cells": [
  {
   "cell_type": "markdown",
   "metadata": {},
   "source": [
    "# Exploring the *wilson* Python package\n",
    "\n",
    "More information about the package can be foud on the [project web site](https://wilson-eft.github.io).\n",
    "\n",
    "Execute cells with Shift + Enter.\n",
    "\n",
    "Insert a new cell below by pressing 'b'."
   ]
  },
  {
   "cell_type": "code",
   "execution_count": 6,
   "metadata": {},
   "outputs": [],
   "source": [
    "import wilson"
   ]
  },
  {
   "cell_type": "markdown",
   "metadata": {},
   "source": [
    "## Examples from the paper"
   ]
  },
  {
   "cell_type": "code",
   "execution_count": 8,
   "metadata": {},
   "outputs": [],
   "source": [
    "mywilson = wilson.Wilson({'uG_33': 1e-6},\n",
    "                         scale=1e3, eft='SMEFT', basis='Warsaw')"
   ]
  },
  {
   "cell_type": "markdown",
   "metadata": {},
   "source": [
    "In a Jupyter notebook the `Wilson` instance is \"pretty printed\" in the form of a table showing the input EFT, basis and scale, as well as a table with the input Wilson coefficient values."
   ]
  },
  {
   "cell_type": "code",
   "execution_count": 3,
   "metadata": {},
   "outputs": [
    {
     "data": {
      "text/html": [
       "<h3>Wilson coefficients</h3>\n",
       "\n",
       "<table>\n",
       "  <thead>\n",
       "    <tr>\n",
       "      <th>EFT</th>\n",
       "      <th>Basis</th>\n",
       "      <th>scale</th>\n",
       "    </tr>\n",
       "  </thead>\n",
       "  <tbody>\n",
       "    <tr>\n",
       "      <td><code>SMEFT</code></td>\n",
       "      <td><code>Warsaw</code></td>\n",
       "      <td>1000.0 GeV</td>\n",
       "    </tr>\n",
       "  </tbody>\n",
       "</table>\n",
       "<h4>Values</h4>\n",
       "\n",
       "<div>\n",
       "<style scoped>\n",
       "    .dataframe tbody tr th:only-of-type {\n",
       "        vertical-align: middle;\n",
       "    }\n",
       "\n",
       "    .dataframe tbody tr th {\n",
       "        vertical-align: top;\n",
       "    }\n",
       "\n",
       "    .dataframe thead th {\n",
       "        text-align: right;\n",
       "    }\n",
       "</style>\n",
       "<table border=\"1\" class=\"dataframe\">\n",
       "  <thead>\n",
       "    <tr style=\"text-align: right;\">\n",
       "      <th></th>\n",
       "      <th>Re</th>\n",
       "      <th>Im</th>\n",
       "    </tr>\n",
       "  </thead>\n",
       "  <tbody>\n",
       "    <tr>\n",
       "      <th>uG_33</th>\n",
       "      <td>0.000001</td>\n",
       "      <td>0.0</td>\n",
       "    </tr>\n",
       "  </tbody>\n",
       "</table>\n",
       "</div>"
      ],
      "text/plain": [
       "<wilson.classes.Wilson at 0x7fa326a13c88>"
      ]
     },
     "execution_count": 3,
     "metadata": {},
     "output_type": "execute_result"
    }
   ],
   "source": [
    "mywilson"
   ]
  },
  {
   "cell_type": "markdown",
   "metadata": {},
   "source": [
    "Running down to the top mass scale, look at the induced values of $C_{uG}^{33}$ and $C_{uB}^{33}$"
   ]
  },
  {
   "cell_type": "code",
   "execution_count": 11,
   "metadata": {},
   "outputs": [
    {
     "data": {
      "text/plain": [
       "((1.0228430603379855e-06-1.572304908340795e-19j),\n",
       " (-1.9807848899202916e-08+3.044024654195142e-21j))"
      ]
     },
     "execution_count": 11,
     "metadata": {},
     "output_type": "execute_result"
    }
   ],
   "source": [
    "wc = mywilson.match_run(scale=160, eft='SMEFT', basis='Warsaw')\n",
    "wc['uG_33'], wc['uB_33']"
   ]
  },
  {
   "cell_type": "markdown",
   "metadata": {},
   "source": [
    "$R_{D^*}$ as computed by [flavio](https://flav-io.github.io) induced by $(C_{lq}^{(3)})_{3333}$"
   ]
  },
  {
   "cell_type": "code",
   "execution_count": 14,
   "metadata": {},
   "outputs": [
    {
     "data": {
      "text/plain": [
       "0.8847548062233653"
      ]
     },
     "execution_count": 14,
     "metadata": {},
     "output_type": "execute_result"
    }
   ],
   "source": [
    "import flavio\n",
    "\n",
    "my_wilson = wilson.Wilson({'lq3_3333': 1e-6},\n",
    "                          scale=1e3, eft='SMEFT', basis='Warsaw')\n",
    "\n",
    "RDs_SM = flavio.sm_prediction('Rtaul(B->D*lnu)')\n",
    "RDs_NP = flavio.np_prediction('Rtaul(B->D*lnu)', my_wilson)\n",
    "\n",
    "RDs_NP / RDs_SM"
   ]
  },
  {
   "cell_type": "code",
   "execution_count": null,
   "metadata": {},
   "outputs": [],
   "source": []
  }
 ],
 "metadata": {
  "kernelspec": {
   "display_name": "Python 3",
   "language": "python",
   "name": "python3"
  },
  "language_info": {
   "codemirror_mode": {
    "name": "ipython",
    "version": 3
   },
   "file_extension": ".py",
   "mimetype": "text/x-python",
   "name": "python",
   "nbconvert_exporter": "python",
   "pygments_lexer": "ipython3",
   "version": "3.6.3"
  }
 },
 "nbformat": 4,
 "nbformat_minor": 2
}
